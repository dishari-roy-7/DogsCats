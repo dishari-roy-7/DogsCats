{
  "cells": [
    {
      "cell_type": "markdown",
      "metadata": {
        "id": "view-in-github",
        "colab_type": "text"
      },
      "source": [
        "<a href=\"https://colab.research.google.com/github/dishari-roy-7/DogsCats/blob/main/Internshala_DogCat.ipynb\" target=\"_parent\"><img src=\"https://colab.research.google.com/assets/colab-badge.svg\" alt=\"Open In Colab\"/></a>"
      ]
    },
    {
      "cell_type": "code",
      "execution_count": 8,
      "metadata": {
        "id": "CFUz0kP4TOeY"
      },
      "outputs": [],
      "source": [
        "import pandas as pd\n",
        "import numpy as np\n",
        "%matplotlib inline\n",
        "import matplotlib as mpl\n",
        "import matplotlib.pyplot as plt\n",
        "import os"
      ]
    },
    {
      "cell_type": "code",
      "execution_count": 9,
      "metadata": {
        "id": "fDmi1rtcT0po"
      },
      "outputs": [],
      "source": [
        "import tensorflow as tf\n",
        "from tensorflow import keras"
      ]
    },
    {
      "cell_type": "code",
      "execution_count": 10,
      "metadata": {
        "id": "4GPvEIGWT209"
      },
      "outputs": [],
      "source": [
        "train_dir= '/content/drive/MyDrive/cats_and_dogs/train'\n",
        "test_dir= '/content/drive/MyDrive/cats_and_dogs/test'\n",
        "validation_dir= '/content/drive/MyDrive/cats_and_dogs/validation'"
      ]
    },
    {
      "cell_type": "code",
      "execution_count": 11,
      "metadata": {
        "id": "DzFercz9UFm1"
      },
      "outputs": [],
      "source": [
        "from tensorflow.keras.preprocessing.image import ImageDataGenerator"
      ]
    },
    {
      "cell_type": "code",
      "execution_count": 12,
      "metadata": {
        "colab": {
          "base_uri": "https://localhost:8080/"
        },
        "id": "-pEhOe2aVnhm",
        "outputId": "24edc681-0b29-4310-ea99-78c282871b81"
      },
      "outputs": [
        {
          "output_type": "stream",
          "name": "stdout",
          "text": [
            "Found 2000 images belonging to 2 classes.\n",
            "Found 1000 images belonging to 2 classes.\n"
          ]
        }
      ],
      "source": [
        "#Generating batches of tensor image data\n",
        "train_datagen = ImageDataGenerator(rescale=1./255)\n",
        "test_datagen = ImageDataGenerator(rescale=1./255)\n",
        "\n",
        "train_generator = train_datagen.flow_from_directory(\n",
        "          train_dir,\n",
        "          target_size=(150, 150),\n",
        "          batch_size=20,\n",
        "          class_mode='binary')\n",
        "\n",
        "validation_generator = test_datagen.flow_from_directory(\n",
        "          validation_dir,\n",
        "          target_size=(150,150),\n",
        "          batch_size=20,\n",
        "          class_mode='binary')"
      ]
    },
    {
      "cell_type": "code",
      "source": [
        "from google.colab import drive\n",
        "drive.mount('/content/drive')"
      ],
      "metadata": {
        "colab": {
          "base_uri": "https://localhost:8080/"
        },
        "id": "1Ywf7Y-6tiNJ",
        "outputId": "33266167-2829-48d0-c209-0dc9e549e2ae"
      },
      "execution_count": 13,
      "outputs": [
        {
          "output_type": "stream",
          "name": "stdout",
          "text": [
            "Drive already mounted at /content/drive; to attempt to forcibly remount, call drive.mount(\"/content/drive\", force_remount=True).\n"
          ]
        }
      ]
    },
    {
      "cell_type": "markdown",
      "metadata": {
        "id": "rUt6WjbRc-1s"
      },
      "source": [
        "training CNN Model"
      ]
    },
    {
      "cell_type": "code",
      "execution_count": 14,
      "metadata": {
        "id": "gNhQMSIebrxK"
      },
      "outputs": [],
      "source": [
        "from tensorflow.keras import layers\n",
        "from tensorflow.keras import models"
      ]
    },
    {
      "cell_type": "code",
      "execution_count": 15,
      "metadata": {
        "id": "6mHYhOMvbtBv"
      },
      "outputs": [],
      "source": [
        "model = models.Sequential()\n",
        "\n",
        "model.add(layers.Conv2D(32,(3,3),activation='relu',\n",
        "                        input_shape=(150,150,3)))\n",
        "model.add(layers.MaxPooling2D((2,2)))\n",
        "\n",
        "model.add(layers.Conv2D(64,(3,3),activation='relu'))\n",
        "model.add(layers.MaxPooling2D((2,2)))\n",
        "\n",
        "model.add(layers.Conv2D(128,(3,3),activation='relu'))\n",
        "model.add(layers.MaxPooling2D((2,2)))\n",
        "\n",
        "model.add(layers.Conv2D(128,(3,3),activation='relu'))\n",
        "model.add(layers.MaxPooling2D((2,2)))\n",
        "\n",
        "model.add(layers.Flatten())\n",
        "\n",
        "model.add(layers.Dense(512, activation='relu'))\n",
        "\n",
        "model.add(layers.Dense(1, activation='sigmoid'))"
      ]
    },
    {
      "cell_type": "code",
      "execution_count": 16,
      "metadata": {
        "colab": {
          "base_uri": "https://localhost:8080/"
        },
        "id": "8OT3b3tWdDeC",
        "outputId": "7e892e39-dbab-4146-dd72-746e57bc544e"
      },
      "outputs": [
        {
          "output_type": "stream",
          "name": "stdout",
          "text": [
            "Model: \"sequential\"\n",
            "_________________________________________________________________\n",
            " Layer (type)                Output Shape              Param #   \n",
            "=================================================================\n",
            " conv2d (Conv2D)             (None, 148, 148, 32)      896       \n",
            "                                                                 \n",
            " max_pooling2d (MaxPooling2D  (None, 74, 74, 32)       0         \n",
            " )                                                               \n",
            "                                                                 \n",
            " conv2d_1 (Conv2D)           (None, 72, 72, 64)        18496     \n",
            "                                                                 \n",
            " max_pooling2d_1 (MaxPooling  (None, 36, 36, 64)       0         \n",
            " 2D)                                                             \n",
            "                                                                 \n",
            " conv2d_2 (Conv2D)           (None, 34, 34, 128)       73856     \n",
            "                                                                 \n",
            " max_pooling2d_2 (MaxPooling  (None, 17, 17, 128)      0         \n",
            " 2D)                                                             \n",
            "                                                                 \n",
            " conv2d_3 (Conv2D)           (None, 15, 15, 128)       147584    \n",
            "                                                                 \n",
            " max_pooling2d_3 (MaxPooling  (None, 7, 7, 128)        0         \n",
            " 2D)                                                             \n",
            "                                                                 \n",
            " flatten (Flatten)           (None, 6272)              0         \n",
            "                                                                 \n",
            " dense (Dense)               (None, 512)               3211776   \n",
            "                                                                 \n",
            " dense_1 (Dense)             (None, 1)                 513       \n",
            "                                                                 \n",
            "=================================================================\n",
            "Total params: 3,453,121\n",
            "Trainable params: 3,453,121\n",
            "Non-trainable params: 0\n",
            "_________________________________________________________________\n"
          ]
        }
      ],
      "source": [
        "model.summary()"
      ]
    },
    {
      "cell_type": "code",
      "execution_count": 17,
      "metadata": {
        "colab": {
          "base_uri": "https://localhost:8080/"
        },
        "id": "B7wqHmFtdJzu",
        "outputId": "e4242461-99f8-4df9-9e4f-7f4e34e19eac"
      },
      "outputs": [
        {
          "output_type": "stream",
          "name": "stderr",
          "text": [
            "/usr/local/lib/python3.7/dist-packages/keras/optimizers/optimizer_v2/rmsprop.py:135: UserWarning: The `lr` argument is deprecated, use `learning_rate` instead.\n",
            "  super(RMSprop, self).__init__(name, **kwargs)\n"
          ]
        }
      ],
      "source": [
        "from tensorflow.keras import optimizers\n",
        "\n",
        "model.compile(loss='binary_crossentropy',\n",
        "              optimizer=optimizers.RMSprop(lr=1e-4),\n",
        "              metrics=['acc'])"
      ]
    },
    {
      "cell_type": "code",
      "execution_count": 18,
      "metadata": {
        "colab": {
          "base_uri": "https://localhost:8080/"
        },
        "id": "6qdTzldddUbH",
        "outputId": "caaee241-d6fa-4cab-cb9d-da6f64fcaa8b"
      },
      "outputs": [
        {
          "metadata": {
            "tags": null
          },
          "name": "stderr",
          "output_type": "stream",
          "text": [
            "/usr/local/lib/python3.7/dist-packages/ipykernel_launcher.py:6: UserWarning: `Model.fit_generator` is deprecated and will be removed in a future version. Please use `Model.fit`, which supports generators.\n",
            "  \n"
          ]
        },
        {
          "output_type": "stream",
          "name": "stdout",
          "text": [
            "Epoch 1/20\n",
            "100/100 [==============================] - 588s 6s/step - loss: 0.6911 - acc: 0.5335 - val_loss: 0.6863 - val_acc: 0.5190\n",
            "Epoch 2/20\n",
            "100/100 [==============================] - 71s 707ms/step - loss: 0.6615 - acc: 0.6185 - val_loss: 0.6688 - val_acc: 0.5700\n",
            "Epoch 3/20\n",
            "100/100 [==============================] - 71s 708ms/step - loss: 0.6293 - acc: 0.6500 - val_loss: 0.6397 - val_acc: 0.6370\n",
            "Epoch 4/20\n",
            "100/100 [==============================] - 71s 709ms/step - loss: 0.5835 - acc: 0.6915 - val_loss: 0.6067 - val_acc: 0.6760\n",
            "Epoch 5/20\n",
            "100/100 [==============================] - 72s 723ms/step - loss: 0.5423 - acc: 0.7125 - val_loss: 0.6342 - val_acc: 0.6490\n",
            "Epoch 6/20\n",
            "100/100 [==============================] - 71s 712ms/step - loss: 0.5145 - acc: 0.7375 - val_loss: 0.6584 - val_acc: 0.6520\n",
            "Epoch 7/20\n",
            "100/100 [==============================] - 71s 709ms/step - loss: 0.4852 - acc: 0.7680 - val_loss: 0.6053 - val_acc: 0.6820\n",
            "Epoch 8/20\n",
            "100/100 [==============================] - 72s 724ms/step - loss: 0.4594 - acc: 0.7830 - val_loss: 0.5668 - val_acc: 0.6930\n",
            "Epoch 9/20\n",
            "100/100 [==============================] - 72s 722ms/step - loss: 0.4373 - acc: 0.7955 - val_loss: 0.5712 - val_acc: 0.7090\n",
            "Epoch 10/20\n",
            "100/100 [==============================] - 71s 715ms/step - loss: 0.4083 - acc: 0.8165 - val_loss: 0.6309 - val_acc: 0.6970\n",
            "Epoch 11/20\n",
            "100/100 [==============================] - 72s 724ms/step - loss: 0.3865 - acc: 0.8265 - val_loss: 0.5862 - val_acc: 0.7130\n",
            "Epoch 12/20\n",
            "100/100 [==============================] - 73s 726ms/step - loss: 0.3601 - acc: 0.8375 - val_loss: 0.6104 - val_acc: 0.7110\n",
            "Epoch 13/20\n",
            "100/100 [==============================] - 71s 713ms/step - loss: 0.3401 - acc: 0.8490 - val_loss: 0.6109 - val_acc: 0.7130\n",
            "Epoch 14/20\n",
            "100/100 [==============================] - 72s 725ms/step - loss: 0.3117 - acc: 0.8655 - val_loss: 0.7230 - val_acc: 0.6830\n",
            "Epoch 15/20\n",
            "100/100 [==============================] - 72s 722ms/step - loss: 0.2896 - acc: 0.8845 - val_loss: 0.6019 - val_acc: 0.7250\n",
            "Epoch 16/20\n",
            "100/100 [==============================] - 71s 713ms/step - loss: 0.2620 - acc: 0.8980 - val_loss: 0.7305 - val_acc: 0.6990\n",
            "Epoch 17/20\n",
            "100/100 [==============================] - 73s 730ms/step - loss: 0.2441 - acc: 0.9065 - val_loss: 0.8500 - val_acc: 0.6760\n",
            "Epoch 18/20\n",
            "100/100 [==============================] - 72s 724ms/step - loss: 0.2316 - acc: 0.9050 - val_loss: 0.7946 - val_acc: 0.6790\n",
            "Epoch 19/20\n",
            "100/100 [==============================] - 72s 719ms/step - loss: 0.1976 - acc: 0.9260 - val_loss: 0.6902 - val_acc: 0.7160\n",
            "Epoch 20/20\n",
            "100/100 [==============================] - 73s 733ms/step - loss: 0.1793 - acc: 0.9355 - val_loss: 0.7365 - val_acc: 0.7290\n"
          ]
        }
      ],
      "source": [
        "history = model.fit_generator(\n",
        "    train_generator,\n",
        "    steps_per_epoch=100,\n",
        "    epochs=20,\n",
        "    validation_data=validation_generator,\n",
        "    validation_steps=50)"
      ]
    },
    {
      "cell_type": "code",
      "execution_count": 19,
      "metadata": {
        "id": "mZGgJ3K4Z7Xm",
        "colab": {
          "base_uri": "https://localhost:8080/",
          "height": 324
        },
        "outputId": "2cbc102f-e0a6-48ea-ef6f-1a3e84c28f6c"
      },
      "outputs": [
        {
          "output_type": "display_data",
          "data": {
            "text/plain": [
              "<Figure size 576x360 with 1 Axes>"
            ],
            "image/png": "[encoded data removed]"
          },
          "metadata": {
            "needs_background": "light"
          }
        }
      ],
      "source": [
        "pd.DataFrame(history.history).plot(figsize=(8,5))\n",
        "plt.grid(True)\n",
        "plt.gca().set_ylim(0,1)\n",
        "plt.show()"
      ]
    },
    {
      "cell_type": "code",
      "execution_count": 20,
      "metadata": {
        "id": "RFyGfwIabGXF"
      },
      "outputs": [],
      "source": [
        "model.save(\"model.h5\")"
      ]
    },
    {
      "cell_type": "code",
      "execution_count": 21,
      "metadata": {
        "id": "9A2Vn2x3al5f"
      },
      "outputs": [],
      "source": [
        "from tensorflow.keras import backend as K\n",
        "\n",
        "K.clear_session()\n",
        "del model"
      ]
    },
    {
      "cell_type": "code",
      "execution_count": 22,
      "metadata": {
        "id": "L59BuqKzXl06",
        "colab": {
          "base_uri": "https://localhost:8080/"
        },
        "outputId": "a203556c-4cee-4f18-fbc6-60b1bc4e304b"
      },
      "outputs": [
        {
          "output_type": "stream",
          "name": "stdout",
          "text": [
            "Found 2000 images belonging to 2 classes.\n",
            "Found 1000 images belonging to 2 classes.\n"
          ]
        }
      ],
      "source": [
        "train_datagen = ImageDataGenerator(\n",
        "      rescale=1./255,\n",
        "      rotation_range=40,\n",
        "      width_shift_range=0.2,\n",
        "      height_shift_range=0.2,\n",
        "      shear_range=0.2,\n",
        "      zoom_range=0.2,\n",
        "      horizontal_flip=True,)\n",
        "\n",
        "test_datagen = ImageDataGenerator(rescale=1./255)\n",
        "\n",
        "train_generator = train_datagen.flow_from_directory(\n",
        "          train_dir,\n",
        "          target_size=(150, 150),\n",
        "          batch_size=20,\n",
        "          class_mode='binary')\n",
        "\n",
        "validation_generator = test_datagen.flow_from_directory(\n",
        "          validation_dir,\n",
        "          target_size=(150,150),\n",
        "          batch_size=20,\n",
        "          class_mode='binary')"
      ]
    },
    {
      "cell_type": "code",
      "execution_count": 23,
      "metadata": {
        "id": "h85BqzwAq5ZD",
        "colab": {
          "base_uri": "https://localhost:8080/"
        },
        "outputId": "fcb8d9fa-8b9b-4faa-973a-768e21687ab9"
      },
      "outputs": [
        {
          "output_type": "stream",
          "name": "stderr",
          "text": [
            "/usr/local/lib/python3.7/dist-packages/keras/optimizers/optimizer_v2/rmsprop.py:135: UserWarning: The `lr` argument is deprecated, use `learning_rate` instead.\n",
            "  super(RMSprop, self).__init__(name, **kwargs)\n"
          ]
        }
      ],
      "source": [
        "model = models.Sequential()\n",
        "\n",
        "model.add(layers.Conv2D(32,(3,3),activation='relu',\n",
        "                        input_shape=(150,150,3)))\n",
        "model.add(layers.MaxPooling2D((2,2)))\n",
        "\n",
        "model.add(layers.Conv2D(64,(3,3),activation='relu'))\n",
        "model.add(layers.MaxPooling2D((2,2)))\n",
        "\n",
        "model.add(layers.Conv2D(128,(3,3),activation='relu'))\n",
        "model.add(layers.MaxPooling2D((2,2)))\n",
        "\n",
        "model.add(layers.Conv2D(128,(3,3),activation='relu'))\n",
        "model.add(layers.MaxPooling2D((2,2)))\n",
        "\n",
        "model.add(layers.Flatten())\n",
        "\n",
        "model.add(layers.Dropout(0.5))\n",
        "\n",
        "model.add(layers.Dense(512,activation='relu'))\n",
        "model.add(layers.Dense(1,activation='relu'))\n",
        "\n",
        "model.add(layers.Dense(512, activation='relu'))\n",
        "\n",
        "model.add(layers.Dense(1, activation='sigmoid'))\n",
        "\n",
        "model.compile(loss='binary_crossentropy',\n",
        "              optimizer=optimizers.RMSprop(lr=1e-4),\n",
        "              metrics=['acc'])"
      ]
    },
    {
      "cell_type": "code",
      "execution_count": 24,
      "metadata": {
        "id": "63LuEMPlq6OD",
        "colab": {
          "base_uri": "https://localhost:8080/"
        },
        "outputId": "ed8c4fb9-073a-4928-b9a3-7856b06d4e63"
      },
      "outputs": [
        {
          "metadata": {
            "tags": null
          },
          "name": "stderr",
          "output_type": "stream",
          "text": [
            "/usr/local/lib/python3.7/dist-packages/ipykernel_launcher.py:6: UserWarning: `Model.fit_generator` is deprecated and will be removed in a future version. Please use `Model.fit`, which supports generators.\n",
            "  \n"
          ]
        },
        {
          "output_type": "stream",
          "name": "stdout",
          "text": [
            "Epoch 1/100\n",
            "100/100 [==============================] - 76s 750ms/step - loss: 0.6932 - acc: 0.4840 - val_loss: 0.6931 - val_acc: 0.5000\n",
            "Epoch 2/100\n",
            "100/100 [==============================] - 76s 759ms/step - loss: 0.6931 - acc: 0.5115 - val_loss: 0.6910 - val_acc: 0.5000\n",
            "Epoch 3/100\n",
            "100/100 [==============================] - 76s 761ms/step - loss: 0.6897 - acc: 0.5250 - val_loss: 0.6873 - val_acc: 0.5590\n",
            "Epoch 4/100\n",
            "100/100 [==============================] - 75s 748ms/step - loss: 0.6811 - acc: 0.5635 - val_loss: 0.6665 - val_acc: 0.6030\n",
            "Epoch 5/100\n",
            "100/100 [==============================] - 75s 749ms/step - loss: 0.6723 - acc: 0.5630 - val_loss: 0.6626 - val_acc: 0.5840\n",
            "Epoch 6/100\n",
            "100/100 [==============================] - 76s 757ms/step - loss: 0.6673 - acc: 0.5885 - val_loss: 0.7077 - val_acc: 0.5050\n",
            "Epoch 7/100\n",
            "100/100 [==============================] - 75s 750ms/step - loss: 0.6630 - acc: 0.5770 - val_loss: 0.6732 - val_acc: 0.5860\n",
            "Epoch 8/100\n",
            "100/100 [==============================] - 75s 749ms/step - loss: 0.6607 - acc: 0.5900 - val_loss: 0.6552 - val_acc: 0.5960\n",
            "Epoch 9/100\n",
            "100/100 [==============================] - 75s 752ms/step - loss: 0.6538 - acc: 0.5860 - val_loss: 0.6520 - val_acc: 0.6200\n",
            "Epoch 10/100\n",
            "100/100 [==============================] - 75s 748ms/step - loss: 0.6534 - acc: 0.6055 - val_loss: 0.6470 - val_acc: 0.6430\n",
            "Epoch 11/100\n",
            "100/100 [==============================] - 75s 753ms/step - loss: 0.6450 - acc: 0.6375 - val_loss: 0.6726 - val_acc: 0.5560\n",
            "Epoch 12/100\n",
            "100/100 [==============================] - 75s 748ms/step - loss: 0.6431 - acc: 0.6475 - val_loss: 0.6310 - val_acc: 0.6660\n",
            "Epoch 13/100\n",
            "100/100 [==============================] - 76s 761ms/step - loss: 0.6312 - acc: 0.6535 - val_loss: 0.6314 - val_acc: 0.6550\n",
            "Epoch 14/100\n",
            "100/100 [==============================] - 75s 751ms/step - loss: 0.6275 - acc: 0.6665 - val_loss: 0.6244 - val_acc: 0.6600\n",
            "Epoch 15/100\n",
            "100/100 [==============================] - 75s 753ms/step - loss: 0.6181 - acc: 0.6725 - val_loss: 0.6061 - val_acc: 0.6840\n",
            "Epoch 16/100\n",
            "100/100 [==============================] - 76s 761ms/step - loss: 0.6209 - acc: 0.6780 - val_loss: 0.6028 - val_acc: 0.6870\n",
            "Epoch 17/100\n",
            "100/100 [==============================] - 75s 753ms/step - loss: 0.6135 - acc: 0.6775 - val_loss: 0.6229 - val_acc: 0.6470\n",
            "Epoch 18/100\n",
            "100/100 [==============================] - 75s 754ms/step - loss: 0.6098 - acc: 0.6810 - val_loss: 0.5947 - val_acc: 0.7000\n",
            "Epoch 19/100\n",
            "100/100 [==============================] - 77s 767ms/step - loss: 0.6069 - acc: 0.6865 - val_loss: 0.5849 - val_acc: 0.7090\n",
            "Epoch 20/100\n",
            "100/100 [==============================] - 75s 753ms/step - loss: 0.6001 - acc: 0.6910 - val_loss: 0.6026 - val_acc: 0.6830\n",
            "Epoch 21/100\n",
            "100/100 [==============================] - 76s 755ms/step - loss: 0.6027 - acc: 0.6910 - val_loss: 0.6001 - val_acc: 0.6730\n",
            "Epoch 22/100\n",
            "100/100 [==============================] - 77s 765ms/step - loss: 0.5822 - acc: 0.7080 - val_loss: 0.5786 - val_acc: 0.7160\n",
            "Epoch 23/100\n",
            "100/100 [==============================] - 76s 761ms/step - loss: 0.5769 - acc: 0.7230 - val_loss: 0.5777 - val_acc: 0.7080\n",
            "Epoch 24/100\n",
            "100/100 [==============================] - 76s 759ms/step - loss: 0.5831 - acc: 0.7065 - val_loss: 0.5917 - val_acc: 0.7010\n",
            "Epoch 25/100\n",
            "100/100 [==============================] - 77s 772ms/step - loss: 0.5704 - acc: 0.7140 - val_loss: 0.5684 - val_acc: 0.7020\n",
            "Epoch 26/100\n",
            "100/100 [==============================] - 76s 760ms/step - loss: 0.5764 - acc: 0.7070 - val_loss: 0.5746 - val_acc: 0.7000\n",
            "Epoch 27/100\n",
            "100/100 [==============================] - 75s 753ms/step - loss: 0.5717 - acc: 0.7170 - val_loss: 0.5682 - val_acc: 0.7040\n",
            "Epoch 28/100\n",
            "100/100 [==============================] - 76s 761ms/step - loss: 0.5627 - acc: 0.7220 - val_loss: 0.5626 - val_acc: 0.7040\n",
            "Epoch 29/100\n",
            "100/100 [==============================] - 75s 752ms/step - loss: 0.5678 - acc: 0.7090 - val_loss: 0.5568 - val_acc: 0.7160\n",
            "Epoch 30/100\n",
            "100/100 [==============================] - 75s 752ms/step - loss: 0.5499 - acc: 0.7275 - val_loss: 0.5741 - val_acc: 0.7100\n",
            "Epoch 31/100\n",
            "100/100 [==============================] - 78s 779ms/step - loss: 0.5616 - acc: 0.7155 - val_loss: 0.5885 - val_acc: 0.6890\n",
            "Epoch 32/100\n",
            "100/100 [==============================] - 76s 757ms/step - loss: 0.5425 - acc: 0.7370 - val_loss: 0.5845 - val_acc: 0.6940\n",
            "Epoch 33/100\n",
            "100/100 [==============================] - 76s 757ms/step - loss: 0.5490 - acc: 0.7285 - val_loss: 0.5510 - val_acc: 0.7150\n",
            "Epoch 34/100\n",
            "100/100 [==============================] - 77s 768ms/step - loss: 0.5454 - acc: 0.7290 - val_loss: 0.5122 - val_acc: 0.7520\n",
            "Epoch 35/100\n",
            "100/100 [==============================] - 76s 757ms/step - loss: 0.5464 - acc: 0.7270 - val_loss: 0.5148 - val_acc: 0.7460\n",
            "Epoch 36/100\n",
            "100/100 [==============================] - 76s 757ms/step - loss: 0.5446 - acc: 0.7360 - val_loss: 0.5114 - val_acc: 0.7570\n",
            "Epoch 37/100\n",
            "100/100 [==============================] - 77s 768ms/step - loss: 0.5439 - acc: 0.7370 - val_loss: 0.5444 - val_acc: 0.7130\n",
            "Epoch 38/100\n",
            "100/100 [==============================] - 76s 760ms/step - loss: 0.5423 - acc: 0.7370 - val_loss: 0.5198 - val_acc: 0.7450\n",
            "Epoch 39/100\n",
            "100/100 [==============================] - 76s 758ms/step - loss: 0.5406 - acc: 0.7365 - val_loss: 0.5453 - val_acc: 0.7210\n",
            "Epoch 40/100\n",
            "100/100 [==============================] - 77s 766ms/step - loss: 0.5420 - acc: 0.7260 - val_loss: 0.5133 - val_acc: 0.7480\n",
            "Epoch 41/100\n",
            "100/100 [==============================] - 76s 760ms/step - loss: 0.5167 - acc: 0.7535 - val_loss: 0.5101 - val_acc: 0.7580\n",
            "Epoch 42/100\n",
            "100/100 [==============================] - 76s 758ms/step - loss: 0.5293 - acc: 0.7400 - val_loss: 0.5497 - val_acc: 0.7290\n",
            "Epoch 43/100\n",
            "100/100 [==============================] - 77s 766ms/step - loss: 0.5235 - acc: 0.7520 - val_loss: 0.5649 - val_acc: 0.7160\n",
            "Epoch 44/100\n",
            "100/100 [==============================] - 76s 757ms/step - loss: 0.5274 - acc: 0.7420 - val_loss: 0.5216 - val_acc: 0.7530\n",
            "Epoch 45/100\n",
            "100/100 [==============================] - 76s 760ms/step - loss: 0.5156 - acc: 0.7470 - val_loss: 0.4912 - val_acc: 0.7650\n",
            "Epoch 46/100\n",
            "100/100 [==============================] - 77s 770ms/step - loss: 0.5238 - acc: 0.7430 - val_loss: 0.5550 - val_acc: 0.7140\n",
            "Epoch 47/100\n",
            "100/100 [==============================] - 76s 757ms/step - loss: 0.5237 - acc: 0.7450 - val_loss: 0.5160 - val_acc: 0.7450\n",
            "Epoch 48/100\n",
            "100/100 [==============================] - 76s 759ms/step - loss: 0.5077 - acc: 0.7560 - val_loss: 0.5735 - val_acc: 0.7180\n",
            "Epoch 49/100\n",
            "100/100 [==============================] - 77s 774ms/step - loss: 0.5196 - acc: 0.7405 - val_loss: 0.5096 - val_acc: 0.7500\n",
            "Epoch 50/100\n",
            "100/100 [==============================] - 76s 763ms/step - loss: 0.5149 - acc: 0.7530 - val_loss: 0.5806 - val_acc: 0.7100\n",
            "Epoch 51/100\n",
            "100/100 [==============================] - 76s 759ms/step - loss: 0.5136 - acc: 0.7570 - val_loss: 0.5220 - val_acc: 0.7530\n",
            "Epoch 52/100\n",
            "100/100 [==============================] - 77s 768ms/step - loss: 0.5053 - acc: 0.7620 - val_loss: 0.4783 - val_acc: 0.7800\n",
            "Epoch 53/100\n",
            "100/100 [==============================] - 76s 760ms/step - loss: 0.5045 - acc: 0.7585 - val_loss: 0.4816 - val_acc: 0.7660\n",
            "Epoch 54/100\n",
            "100/100 [==============================] - 76s 761ms/step - loss: 0.5009 - acc: 0.7625 - val_loss: 0.4960 - val_acc: 0.7610\n",
            "Epoch 55/100\n",
            "100/100 [==============================] - 77s 773ms/step - loss: 0.4914 - acc: 0.7625 - val_loss: 0.5052 - val_acc: 0.7650\n",
            "Epoch 56/100\n",
            "100/100 [==============================] - 76s 762ms/step - loss: 0.4942 - acc: 0.7715 - val_loss: 0.5060 - val_acc: 0.7720\n",
            "Epoch 57/100\n",
            "100/100 [==============================] - 76s 760ms/step - loss: 0.4922 - acc: 0.7630 - val_loss: 0.4866 - val_acc: 0.7580\n",
            "Epoch 58/100\n",
            "100/100 [==============================] - 77s 771ms/step - loss: 0.5041 - acc: 0.7560 - val_loss: 0.5079 - val_acc: 0.7520\n",
            "Epoch 59/100\n",
            "100/100 [==============================] - 76s 762ms/step - loss: 0.4976 - acc: 0.7675 - val_loss: 0.5310 - val_acc: 0.7470\n",
            "Epoch 60/100\n",
            "100/100 [==============================] - 77s 765ms/step - loss: 0.5052 - acc: 0.7475 - val_loss: 0.5102 - val_acc: 0.7550\n",
            "Epoch 61/100\n",
            "100/100 [==============================] - 78s 777ms/step - loss: 0.4903 - acc: 0.7655 - val_loss: 0.4941 - val_acc: 0.7620\n",
            "Epoch 62/100\n",
            "100/100 [==============================] - 76s 763ms/step - loss: 0.4895 - acc: 0.7740 - val_loss: 0.4947 - val_acc: 0.7620\n",
            "Epoch 63/100\n",
            "100/100 [==============================] - 76s 757ms/step - loss: 0.4798 - acc: 0.7725 - val_loss: 0.5069 - val_acc: 0.7450\n",
            "Epoch 64/100\n",
            "100/100 [==============================] - 77s 765ms/step - loss: 0.4906 - acc: 0.7655 - val_loss: 0.4910 - val_acc: 0.7680\n",
            "Epoch 65/100\n",
            "100/100 [==============================] - 76s 756ms/step - loss: 0.4819 - acc: 0.7805 - val_loss: 0.5004 - val_acc: 0.7660\n",
            "Epoch 66/100\n",
            "100/100 [==============================] - 76s 754ms/step - loss: 0.4886 - acc: 0.7645 - val_loss: 0.4787 - val_acc: 0.7710\n",
            "Epoch 67/100\n",
            "100/100 [==============================] - 77s 766ms/step - loss: 0.4958 - acc: 0.7690 - val_loss: 0.4900 - val_acc: 0.7650\n",
            "Epoch 68/100\n",
            "100/100 [==============================] - 76s 755ms/step - loss: 0.4758 - acc: 0.7785 - val_loss: 0.5370 - val_acc: 0.7320\n",
            "Epoch 69/100\n",
            "100/100 [==============================] - 76s 763ms/step - loss: 0.4678 - acc: 0.7850 - val_loss: 0.4649 - val_acc: 0.7920\n",
            "Epoch 70/100\n",
            "100/100 [==============================] - 76s 755ms/step - loss: 0.4673 - acc: 0.7785 - val_loss: 0.4741 - val_acc: 0.7840\n",
            "Epoch 71/100\n",
            "100/100 [==============================] - 76s 756ms/step - loss: 0.4681 - acc: 0.7815 - val_loss: 0.4622 - val_acc: 0.7890\n",
            "Epoch 72/100\n",
            "100/100 [==============================] - 76s 763ms/step - loss: 0.4629 - acc: 0.7915 - val_loss: 0.5118 - val_acc: 0.7440\n",
            "Epoch 73/100\n",
            "100/100 [==============================] - 76s 756ms/step - loss: 0.4712 - acc: 0.7795 - val_loss: 0.5678 - val_acc: 0.7350\n",
            "Epoch 74/100\n",
            "100/100 [==============================] - 76s 755ms/step - loss: 0.4769 - acc: 0.7775 - val_loss: 0.5139 - val_acc: 0.7530\n",
            "Epoch 75/100\n",
            "100/100 [==============================] - 77s 765ms/step - loss: 0.4731 - acc: 0.7795 - val_loss: 0.5290 - val_acc: 0.7530\n",
            "Epoch 76/100\n",
            "100/100 [==============================] - 75s 753ms/step - loss: 0.4544 - acc: 0.7950 - val_loss: 0.5039 - val_acc: 0.7700\n",
            "Epoch 77/100\n",
            "100/100 [==============================] - 75s 753ms/step - loss: 0.4549 - acc: 0.7895 - val_loss: 0.4830 - val_acc: 0.7770\n",
            "Epoch 78/100\n",
            "100/100 [==============================] - 76s 760ms/step - loss: 0.4710 - acc: 0.7765 - val_loss: 0.4975 - val_acc: 0.7700\n",
            "Epoch 79/100\n",
            "100/100 [==============================] - 75s 753ms/step - loss: 0.4604 - acc: 0.7875 - val_loss: 0.4608 - val_acc: 0.7870\n",
            "Epoch 80/100\n",
            "100/100 [==============================] - 76s 754ms/step - loss: 0.4508 - acc: 0.7875 - val_loss: 0.4695 - val_acc: 0.7790\n",
            "Epoch 81/100\n",
            "100/100 [==============================] - 76s 759ms/step - loss: 0.4695 - acc: 0.7850 - val_loss: 0.4785 - val_acc: 0.7780\n",
            "Epoch 82/100\n",
            "100/100 [==============================] - 75s 751ms/step - loss: 0.4613 - acc: 0.7860 - val_loss: 0.4999 - val_acc: 0.7620\n",
            "Epoch 83/100\n",
            "100/100 [==============================] - 76s 759ms/step - loss: 0.4501 - acc: 0.7940 - val_loss: 0.4873 - val_acc: 0.7840\n",
            "Epoch 84/100\n",
            "100/100 [==============================] - 75s 749ms/step - loss: 0.4536 - acc: 0.7850 - val_loss: 0.4864 - val_acc: 0.7710\n",
            "Epoch 85/100\n",
            "100/100 [==============================] - 75s 747ms/step - loss: 0.4607 - acc: 0.7895 - val_loss: 0.5149 - val_acc: 0.7520\n",
            "Epoch 86/100\n",
            "100/100 [==============================] - 76s 755ms/step - loss: 0.4473 - acc: 0.8000 - val_loss: 0.4988 - val_acc: 0.7690\n",
            "Epoch 87/100\n",
            "100/100 [==============================] - 75s 747ms/step - loss: 0.4590 - acc: 0.7875 - val_loss: 0.4706 - val_acc: 0.7800\n",
            "Epoch 88/100\n",
            "100/100 [==============================] - 75s 750ms/step - loss: 0.4490 - acc: 0.7775 - val_loss: 0.6187 - val_acc: 0.6950\n",
            "Epoch 89/100\n",
            "100/100 [==============================] - 76s 760ms/step - loss: 0.4395 - acc: 0.8050 - val_loss: 0.5031 - val_acc: 0.7710\n",
            "Epoch 90/100\n",
            "100/100 [==============================] - 75s 751ms/step - loss: 0.4534 - acc: 0.7925 - val_loss: 0.4479 - val_acc: 0.7990\n",
            "Epoch 91/100\n",
            "100/100 [==============================] - 76s 756ms/step - loss: 0.4327 - acc: 0.7960 - val_loss: 0.4738 - val_acc: 0.7830\n",
            "Epoch 92/100\n",
            "100/100 [==============================] - 76s 763ms/step - loss: 0.4327 - acc: 0.8005 - val_loss: 0.5136 - val_acc: 0.7540\n",
            "Epoch 93/100\n",
            "100/100 [==============================] - 76s 755ms/step - loss: 0.4345 - acc: 0.7990 - val_loss: 0.4883 - val_acc: 0.7810\n",
            "Epoch 94/100\n",
            "100/100 [==============================] - 77s 766ms/step - loss: 0.4475 - acc: 0.7820 - val_loss: 0.5302 - val_acc: 0.7560\n",
            "Epoch 95/100\n",
            "100/100 [==============================] - 76s 755ms/step - loss: 0.4377 - acc: 0.7970 - val_loss: 0.4561 - val_acc: 0.7930\n",
            "Epoch 96/100\n",
            "100/100 [==============================] - 75s 753ms/step - loss: 0.4304 - acc: 0.8010 - val_loss: 0.4605 - val_acc: 0.7920\n",
            "Epoch 97/100\n",
            "100/100 [==============================] - 77s 767ms/step - loss: 0.4299 - acc: 0.8050 - val_loss: 0.4691 - val_acc: 0.7990\n",
            "Epoch 98/100\n",
            "100/100 [==============================] - 76s 755ms/step - loss: 0.4310 - acc: 0.8000 - val_loss: 0.4828 - val_acc: 0.7790\n",
            "Epoch 99/100\n",
            "100/100 [==============================] - 76s 755ms/step - loss: 0.4212 - acc: 0.8095 - val_loss: 0.5568 - val_acc: 0.7350\n",
            "Epoch 100/100\n",
            "100/100 [==============================] - 76s 764ms/step - loss: 0.4413 - acc: 0.8015 - val_loss: 0.5014 - val_acc: 0.7680\n"
          ]
        }
      ],
      "source": [
        "history = model.fit_generator(\n",
        "    train_generator,\n",
        "    steps_per_epoch=100,\n",
        "    epochs=100,\n",
        "    validation_data=validation_generator,\n",
        "    validation_steps=50 )"
      ]
    },
    {
      "cell_type": "code",
      "source": [
        "model.save(\"project_cnn.h5\")"
      ],
      "metadata": {
        "id": "efMoueV2vUU-"
      },
      "execution_count": 25,
      "outputs": []
    },
    {
      "cell_type": "code",
      "source": [
        "pd.DataFrame(history.history).plot(figsize=(8,5))\n",
        "plt.grid(True)\n",
        "plt.gca().set_ylim(0,1)\n",
        "plt.show()"
      ],
      "metadata": {
        "colab": {
          "base_uri": "https://localhost:8080/",
          "height": 324
        },
        "id": "4ZI4WaLKDJHv",
        "outputId": "d96a536b-481c-4987-833d-e5ebc6fac9b6"
      },
      "execution_count": 26,
      "outputs": [
        {
          "output_type": "display_data",
          "data": {
            "text/plain": [
              "<Figure size 576x360 with 1 Axes>"
            ],
            "image/png": "[encoded data removed]"
          },
          "metadata": {
            "needs_background": "light"
          }
        }
      ]
    }
  ],
  "metadata": {
    "colab": {
      "collapsed_sections": [],
      "provenance": [],
      "include_colab_link": true
    },
    "kernelspec": {
      "display_name": "Python 3",
      "name": "python3"
    },
    "language_info": {
      "name": "python"
    }
  },
  "nbformat": 4,
  "nbformat_minor": 0
}