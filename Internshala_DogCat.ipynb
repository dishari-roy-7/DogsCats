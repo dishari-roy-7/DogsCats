{
  "nbformat": 4,
  "nbformat_minor": 0,
  "metadata": {
    "colab": {
      "provenance": [],
      "collapsed_sections": [],
      "include_colab_link": true
    },
    "kernelspec": {
      "name": "python3",
      "display_name": "Python 3"
    },
    "language_info": {
      "name": "python"
    }
  },
  "cells": [
    {
      "cell_type": "markdown",
      "metadata": {
        "id": "view-in-github",
        "colab_type": "text"
      },
      "source": [
        "<a href=\"https://colab.research.google.com/github/dishari-roy-7/DogsCats/blob/main/Internshala_DogCat.ipynb\" target=\"_parent\"><img src=\"https://colab.research.google.com/assets/colab-badge.svg\" alt=\"Open In Colab\"/></a>"
      ]
    },
    {
      "cell_type": "code",
      "execution_count": null,
      "metadata": {
        "id": "CFUz0kP4TOeY"
      },
      "outputs": [],
      "source": [
        "import pandas as pd\n",
        "import numpy as np\n",
        "%matplotlib inline\n",
        "import matplotlib as mpl\n",
        "import matplotlib.pyplot as plt\n",
        "import os"
      ]
    },
    {
      "cell_type": "code",
      "source": [
        "import tensorflow as tf\n",
        "from tensorflow import keras"
      ],
      "metadata": {
        "id": "fDmi1rtcT0po"
      },
      "execution_count": null,
      "outputs": []
    },
    {
      "cell_type": "code",
      "source": [
        "train_dir= '/content/drive/MyDrive/cats_and_dogs/train'\n",
        "test_dir= '/content/drive/MyDrive/cats_and_dogs/test'\n",
        "validation_dir= '/content/drive/MyDrive/cats_and_dogs/validation'"
      ],
      "metadata": {
        "id": "4GPvEIGWT209"
      },
      "execution_count": 31,
      "outputs": []
    },
    {
      "cell_type": "code",
      "source": [
        "from tensorflow.keras.preprocessing.image import ImageDataGenerator"
      ],
      "metadata": {
        "id": "DzFercz9UFm1"
      },
      "execution_count": 32,
      "outputs": []
    },
    {
      "cell_type": "code",
      "source": [
        "#Generating batches of tensor image data\n",
        "train_datagen = ImageDataGenerator(rescale=1./255)\n",
        "test_datagen = ImageDataGenerator(rescale=1./255)\n",
        "\n",
        "train_generator = train_datagen.flow_from_directory(\n",
        "          train_dir,\n",
        "          target_size=(150, 150),\n",
        "          batch_size=20,\n",
        "          class_mode='binary')\n",
        "\n",
        "validation_generator = test_datagen.flow_from_directory(\n",
        "          validation_dir,\n",
        "          target_size=(150,150),\n",
        "          batch_size=20,\n",
        "          class_mode='binary')"
      ],
      "metadata": {
        "colab": {
          "base_uri": "https://localhost:8080/"
        },
        "id": "-pEhOe2aVnhm",
        "outputId": "633f2bdc-263b-44b0-8b8a-9655594b519c"
      },
      "execution_count": 34,
      "outputs": [
        {
          "output_type": "stream",
          "name": "stdout",
          "text": [
            "Found 2000 images belonging to 2 classes.\n",
            "Found 1000 images belonging to 2 classes.\n"
          ]
        }
      ]
    },
    {
      "cell_type": "markdown",
      "source": [
        "training CNN Model"
      ],
      "metadata": {
        "id": "rUt6WjbRc-1s"
      }
    },
    {
      "cell_type": "code",
      "source": [
        "from tensorflow.keras import layers\n",
        "from tensorflow.keras import models"
      ],
      "metadata": {
        "id": "gNhQMSIebrxK"
      },
      "execution_count": 22,
      "outputs": []
    },
    {
      "cell_type": "code",
      "source": [
        "model = models.Sequential()\n",
        "\n",
        "model.add(layers.Conv2D(32,(3,3),activation='relu',\n",
        "                        input_shape=(150,150,3)))\n",
        "model.add(layers.MaxPooling2D((2,2)))\n",
        "\n",
        "model.add(layers.Conv2D(64,(3,3),activation='relu'))\n",
        "model.add(layers.MaxPooling2D((2,2)))\n",
        "\n",
        "model.add(layers.Conv2D(128,(3,3),activation='relu'))\n",
        "model.add(layers.MaxPooling2D((2,2)))\n",
        "\n",
        "model.add(layers.Conv2D(128,(3,3),activation='relu'))\n",
        "model.add(layers.MaxPooling2D((2,2)))\n",
        "\n",
        "model.add(layers.Flatten())\n",
        "\n",
        "model.add(layers.Dense(512, activation='relu'))\n",
        "\n",
        "model.add(layers.Dense(1, activation='sigmoid'))"
      ],
      "metadata": {
        "id": "6mHYhOMvbtBv"
      },
      "execution_count": 23,
      "outputs": []
    },
    {
      "cell_type": "code",
      "source": [
        "model.summary()"
      ],
      "metadata": {
        "colab": {
          "base_uri": "https://localhost:8080/"
        },
        "id": "8OT3b3tWdDeC",
        "outputId": "61b537eb-424e-44ea-d598-f50695293749"
      },
      "execution_count": 25,
      "outputs": [
        {
          "output_type": "stream",
          "name": "stdout",
          "text": [
            "Model: \"sequential\"\n",
            "_________________________________________________________________\n",
            " Layer (type)                Output Shape              Param #   \n",
            "=================================================================\n",
            " conv2d (Conv2D)             (None, 148, 148, 32)      896       \n",
            "                                                                 \n",
            " max_pooling2d (MaxPooling2D  (None, 74, 74, 32)       0         \n",
            " )                                                               \n",
            "                                                                 \n",
            " conv2d_1 (Conv2D)           (None, 72, 72, 64)        18496     \n",
            "                                                                 \n",
            " max_pooling2d_1 (MaxPooling  (None, 36, 36, 64)       0         \n",
            " 2D)                                                             \n",
            "                                                                 \n",
            " conv2d_2 (Conv2D)           (None, 34, 34, 128)       73856     \n",
            "                                                                 \n",
            " max_pooling2d_2 (MaxPooling  (None, 17, 17, 128)      0         \n",
            " 2D)                                                             \n",
            "                                                                 \n",
            " conv2d_3 (Conv2D)           (None, 15, 15, 128)       147584    \n",
            "                                                                 \n",
            " max_pooling2d_3 (MaxPooling  (None, 7, 7, 128)        0         \n",
            " 2D)                                                             \n",
            "                                                                 \n",
            " flatten (Flatten)           (None, 6272)              0         \n",
            "                                                                 \n",
            " dense (Dense)               (None, 512)               3211776   \n",
            "                                                                 \n",
            " dense_1 (Dense)             (None, 1)                 513       \n",
            "                                                                 \n",
            "=================================================================\n",
            "Total params: 3,453,121\n",
            "Trainable params: 3,453,121\n",
            "Non-trainable params: 0\n",
            "_________________________________________________________________\n"
          ]
        }
      ]
    },
    {
      "cell_type": "code",
      "source": [
        "from tensorflow.keras import optimizers\n",
        "\n",
        "model.compile(loss='binary_crossentropy',\n",
        "              optimizer=optimizers.RMSprop(lr=1e-4),\n",
        "              metrics=['acc'])"
      ],
      "metadata": {
        "colab": {
          "base_uri": "https://localhost:8080/"
        },
        "id": "B7wqHmFtdJzu",
        "outputId": "f77e1d84-c9da-441c-bdcb-75be8814680f"
      },
      "execution_count": 27,
      "outputs": [
        {
          "output_type": "stream",
          "name": "stderr",
          "text": [
            "/usr/local/lib/python3.7/dist-packages/keras/optimizer_v2/rmsprop.py:130: UserWarning: The `lr` argument is deprecated, use `learning_rate` instead.\n",
            "  super(RMSprop, self).__init__(name, **kwargs)\n"
          ]
        }
      ]
    },
    {
      "cell_type": "code",
      "source": [
        "history = model.fit_generator(\n",
        "    train_generator,\n",
        "    steps_per_epoch=100,\n",
        "    epochs=20,\n",
        "    validation_data=validation_generator,\n",
        "    validation_steps=50)"
      ],
      "metadata": {
        "id": "6qdTzldddUbH",
        "colab": {
          "base_uri": "https://localhost:8080/"
        },
        "outputId": "adf2568c-7083-4ab5-9bf9-135cba1274fa"
      },
      "execution_count": 35,
      "outputs": [
        {
          "metadata": {
            "tags": null
          },
          "name": "stderr",
          "output_type": "stream",
          "text": [
            "/usr/local/lib/python3.7/dist-packages/ipykernel_launcher.py:6: UserWarning: `Model.fit_generator` is deprecated and will be removed in a future version. Please use `Model.fit`, which supports generators.\n",
            "  \n"
          ]
        },
        {
          "output_type": "stream",
          "name": "stdout",
          "text": [
            "Epoch 1/20\n",
            "100/100 [==============================] - 677s 7s/step - loss: 0.6875 - acc: 0.5440 - val_loss: 0.7104 - val_acc: 0.5200\n",
            "Epoch 2/20\n",
            "100/100 [==============================] - 92s 922ms/step - loss: 0.6574 - acc: 0.6090 - val_loss: 0.6886 - val_acc: 0.5650\n",
            "Epoch 3/20\n",
            "100/100 [==============================] - 92s 920ms/step - loss: 0.6085 - acc: 0.6695 - val_loss: 0.6068 - val_acc: 0.6650\n",
            "Epoch 4/20\n",
            "100/100 [==============================] - 92s 921ms/step - loss: 0.5676 - acc: 0.7080 - val_loss: 0.5925 - val_acc: 0.6740\n",
            "Epoch 5/20\n",
            "100/100 [==============================] - 92s 918ms/step - loss: 0.5398 - acc: 0.7215 - val_loss: 0.5880 - val_acc: 0.6790\n",
            "Epoch 6/20\n",
            "100/100 [==============================] - 91s 912ms/step - loss: 0.5119 - acc: 0.7390 - val_loss: 0.5918 - val_acc: 0.6790\n",
            "Epoch 7/20\n",
            "100/100 [==============================] - 92s 917ms/step - loss: 0.4957 - acc: 0.7555 - val_loss: 0.6127 - val_acc: 0.6780\n",
            "Epoch 8/20\n",
            "100/100 [==============================] - 91s 912ms/step - loss: 0.4556 - acc: 0.7865 - val_loss: 0.5793 - val_acc: 0.7000\n",
            "Epoch 9/20\n",
            "100/100 [==============================] - 91s 913ms/step - loss: 0.4406 - acc: 0.7900 - val_loss: 0.5570 - val_acc: 0.7170\n",
            "Epoch 10/20\n",
            "100/100 [==============================] - 93s 932ms/step - loss: 0.4079 - acc: 0.8205 - val_loss: 0.6964 - val_acc: 0.6950\n",
            "Epoch 11/20\n",
            "100/100 [==============================] - 94s 944ms/step - loss: 0.3897 - acc: 0.8110 - val_loss: 0.5665 - val_acc: 0.7200\n",
            "Epoch 12/20\n",
            "100/100 [==============================] - 94s 937ms/step - loss: 0.3659 - acc: 0.8440 - val_loss: 0.5761 - val_acc: 0.7070\n",
            "Epoch 13/20\n",
            "100/100 [==============================] - 94s 943ms/step - loss: 0.3404 - acc: 0.8525 - val_loss: 0.5719 - val_acc: 0.7080\n",
            "Epoch 14/20\n",
            "100/100 [==============================] - 94s 941ms/step - loss: 0.3124 - acc: 0.8785 - val_loss: 0.5875 - val_acc: 0.7150\n",
            "Epoch 15/20\n",
            "100/100 [==============================] - 94s 937ms/step - loss: 0.2912 - acc: 0.8745 - val_loss: 0.5947 - val_acc: 0.7170\n",
            "Epoch 16/20\n",
            "100/100 [==============================] - 93s 926ms/step - loss: 0.2689 - acc: 0.8975 - val_loss: 0.6310 - val_acc: 0.7100\n",
            "Epoch 17/20\n",
            "100/100 [==============================] - 95s 949ms/step - loss: 0.2495 - acc: 0.9000 - val_loss: 0.7008 - val_acc: 0.7030\n",
            "Epoch 18/20\n",
            "100/100 [==============================] - 93s 934ms/step - loss: 0.2313 - acc: 0.9225 - val_loss: 0.6131 - val_acc: 0.7260\n",
            "Epoch 19/20\n",
            "100/100 [==============================] - 93s 931ms/step - loss: 0.2003 - acc: 0.9275 - val_loss: 0.6833 - val_acc: 0.7310\n",
            "Epoch 20/20\n",
            "100/100 [==============================] - 94s 937ms/step - loss: 0.1886 - acc: 0.9275 - val_loss: 0.6800 - val_acc: 0.7110\n"
          ]
        }
      ]
    },
    {
      "cell_type": "code",
      "source": [
        "pd.DataFrame(history.history).plot(figsize=(8,5))\n",
        "plt.grid(True)\n",
        "plt.gca().set_ylim(0,1)\n",
        "plt.show()"
      ],
      "metadata": {
        "id": "mZGgJ3K4Z7Xm",
        "colab": {
          "base_uri": "https://localhost:8080/",
          "height": 324
        },
        "outputId": "7b54677a-c911-40c0-fd59-94ee6f996ff8"
      },
      "execution_count": 36,
      "outputs": [
        {
          "output_type": "display_data",
          "data": {
            "text/plain": [
              "<Figure size 576x360 with 1 Axes>"
            ],
            "image/png": "[encoded data removed]"
          },
          "metadata": {
            "needs_background": "light"
          }
        }
      ]
    },
    {
      "cell_type": "code",
      "source": [
        "model.save(\"model.h5\")"
      ],
      "metadata": {
        "id": "RFyGfwIabGXF"
      },
      "execution_count": 37,
      "outputs": []
    },
    {
      "cell_type": "code",
      "source": [
        "from tensorflow.keras import backend as K\n",
        "\n",
        "K.clear_session()\n",
        "del model"
      ],
      "metadata": {
        "id": "9A2Vn2x3al5f"
      },
      "execution_count": 39,
      "outputs": []
    },
    {
      "cell_type": "code",
      "source": [],
      "metadata": {
        "id": "L59BuqKzXl06"
      },
      "execution_count": null,
      "outputs": []
    }
  ]
}